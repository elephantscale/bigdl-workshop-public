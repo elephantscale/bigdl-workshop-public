{
 "cells": [
  {
   "cell_type": "markdown",
   "metadata": {},
   "source": [
    "# BigDL Labs\n",
    "\n",
    "## Module 1 & 2\n",
    "Lectures\n",
    "\n",
    "## Module 3 - Getting Started\n",
    "\n",
    "- 3.1 - [Getting started](03-getting-started/03-1-getting-started.html)\n",
    "- 3.2 - [Testing-123.ipynb](03-getting-started/03-2-testing-123.ipynb)\n",
    "- 3.3 - [Data loading and exploration using Spark](03-getting-started/03-3-data-exploration.ipynb)\n",
    "\n",
    "    \n",
    "## Module 4 - Single Layer Perceptron\n",
    "- 4.1 - [Linear Regression](04-single-layer/04-1-linear-regression-tips.ipynb) - simple bill / tips calculation\n",
    "- 4.2 - [single layer perceptron](04-single-layer/04-2-single-layer-iris.ipynb) - using IRIS dataset\n",
    "\n",
    "## Module 5 - Feed Forward Networks & Hidden Layers\n",
    "\n",
    "- 5.1 - [Feed forward classifier - IRIS](05-feed-forward/05-1-feedforward-iris.ipynb) - Using IRIS dataset\n",
    "- 5.2 - [Feed forward classifier - Diabetes](05-feed-forward/05-2-feedforward-diabetes.ipynb) - Using Diabetes dataset\n",
    "- 5.3 - [Visualizing using Tensorboard](05-feed-forward/05-3-tensorboard.ipynb) - Visualize learning using Tensorboard \n",
    "- 5.4 - Add visualizations to the Diabetes lab you just completed in 5.2\n",
    "\n",
    "\n",
    "## Module 6 - Analytics Zoo & High Level APIs\n",
    "- 6.1 - [Learn Zoo APIs](06-high-level-api/06-1-zoo-intro.ipynb)\n",
    "\n"
   ]
  },
  {
   "cell_type": "code",
   "execution_count": null,
   "metadata": {},
   "outputs": [],
   "source": []
  }
 ],
 "metadata": {
  "kernelspec": {
   "display_name": "Python 3",
   "language": "python",
   "name": "python3"
  },
  "language_info": {
   "codemirror_mode": {
    "name": "ipython",
    "version": 3
   },
   "file_extension": ".py",
   "mimetype": "text/x-python",
   "name": "python",
   "nbconvert_exporter": "python",
   "pygments_lexer": "ipython3",
   "version": "3.6.6"
  }
 },
 "nbformat": 4,
 "nbformat_minor": 2
}
