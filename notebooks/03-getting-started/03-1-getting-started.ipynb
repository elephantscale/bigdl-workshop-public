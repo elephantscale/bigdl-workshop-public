{
 "cells": [
  {
   "cell_type": "markdown",
   "metadata": {},
   "source": [
    "# Getting Started\n",
    "\n",
    "We will use BigDL Docker image to run BigDL\n",
    "\n",
    "## PreRequisites\n",
    "Docker has the following pre-requisites\n",
    "- Mac / Linux\n",
    "- Windows 10\n",
    "- At least 4GB RAM (8GB recommended)\n"
   ]
  },
  {
   "cell_type": "markdown",
   "metadata": {},
   "source": [
    "## Step 0 - Local or Cloud\n",
    "You can run these labs on your laptop or in a cloud environment"
   ]
  },
  {
   "cell_type": "markdown",
   "metadata": {},
   "source": [
    "## Step 0.5 - on AWS Instance\n",
    "If you need to setup an AWS instance, follow these steps\n",
    "\n",
    "- Provision a AWS instance with atleast 8 GB of RAM (recommend t2.large or t3.large or higher)\n",
    "- Ubuntu 16.04 distribution recommended\n",
    "- Login to AWS instance\n",
    "- install docker using the following instructions\n",
    "\n",
    "```bash\n",
    "$    sudo apt install docker.io\n",
    "$    sudo usermod -aG docker $(whoami)\n",
    "    # logout and log back in\n",
    "$    docker images\n",
    "```"
   ]
  },
  {
   "cell_type": "markdown",
   "metadata": {},
   "source": [
    "## Step 1 - Get the Docker image\n",
    "This step take a while.  So be sure to do this before the class.\n",
    "\n",
    "```bash\n",
    "# TODO : update this with Intel image\n",
    "$  docker pull  elephantscale/bigdl\n",
    "#  this will take some time\n",
    "\n",
    "$  docker images\n",
    "#  the output may look like below (may not be exact)\n",
    "\n",
    "REPOSITORY               TAG                 IMAGE ID            CREATED             SIZE\n",
    "elephantscale/bigdl      latest              cab43391163d        few days ago          8.68GB\n",
    "```\n",
    "\n",
    "\n"
   ]
  },
  {
   "cell_type": "markdown",
   "metadata": {},
   "source": [
    "## Step 2 - Get this repo\n",
    "\n",
    "```bash\n",
    "    $   git clone https://github.com/elephantscale/bigdl-workshop-public\n",
    "```"
   ]
  },
  {
   "cell_type": "markdown",
   "metadata": {},
   "source": [
    "## Step 3 - Start bigDL docker\n",
    "\n",
    "```bash\n",
    "\n",
    "# go into the directory\n",
    "$  cd  bigdl-workshop-public\n",
    "\n",
    "# TODO : update docker image\n",
    "$  ./run-bigdl-docker.sh  elephantscale/bigdl\n",
    "\n",
    "```\n",
    "\n",
    "As the container starts, you will see output like this\n",
    "\n",
    "```\n",
    "\n",
    "...\n",
    "http://localhost:8888/?token=xyz\n",
    "...\n",
    "```"
   ]
  },
  {
   "cell_type": "markdown",
   "metadata": {},
   "source": [
    "## Step 4 - Access Jupyter URL\n",
    "- Copy paste the Jupyter URL in your browser\n",
    "- You may have to copy-paste the Jupyter token\n",
    "- Then you will see the notebooks."
   ]
  },
  {
   "cell_type": "markdown",
   "metadata": {},
   "source": [
    "## Setp 5 - Testing the environment\n",
    "\n",
    "Open [Testing-123.ipynb](03-2-testing-123.ipynb)  \n",
    "\n",
    "Run the notebook and make sure there are no errors.  \n",
    "\n",
    "This will run through some tests and make sure the environment is setup."
   ]
  },
  {
   "cell_type": "code",
   "execution_count": null,
   "metadata": {},
   "outputs": [],
   "source": []
  }
 ],
 "metadata": {
  "kernelspec": {
   "display_name": "Python 3",
   "language": "python",
   "name": "python3"
  },
  "language_info": {
   "codemirror_mode": {
    "name": "ipython",
    "version": 3
   },
   "file_extension": ".py",
   "mimetype": "text/x-python",
   "name": "python",
   "nbconvert_exporter": "python",
   "pygments_lexer": "ipython3",
   "version": "3.6.6"
  }
 },
 "nbformat": 4,
 "nbformat_minor": 2
}
