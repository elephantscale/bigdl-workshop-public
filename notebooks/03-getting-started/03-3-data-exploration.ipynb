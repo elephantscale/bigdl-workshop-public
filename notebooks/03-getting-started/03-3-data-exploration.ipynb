{
 "cells": [
  {
   "cell_type": "markdown",
   "metadata": {},
   "source": [
    "# Lab : Data Exploration and Manipulation With Spark\n",
    "\n",
    "### Overview\n",
    "We will show some of the useful methods for data manipulation using Apache Spark\n",
    "\n",
    "### Runtime\n",
    "30 mins\n"
   ]
  },
  {
   "cell_type": "markdown",
   "metadata": {},
   "source": [
    "## 1 - Reading Structured Data (CSV)\n",
    "Spark can read CSV files natively.  It can also figure out the schema.\n",
    "\n",
    "We will read **house-sales** data.  \n",
    "[Sample data](../../data/house-sales/)"
   ]
  },
  {
   "cell_type": "code",
   "execution_count": null,
   "metadata": {},
   "outputs": [],
   "source": [
    "## TODO : supply 'True' for both 'header' and 'inferSchema'\n",
    "house_sales = spark.read.csv('../../data/house-sales/house-sales-full.csv', \\\n",
    "                            header=???, inferSchema=???)\n",
    "\n"
   ]
  },
  {
   "cell_type": "code",
   "execution_count": null,
   "metadata": {},
   "outputs": [],
   "source": [
    "## TODO : use the 'tab completion' function to find the function that will print the schema\n",
    "house_sales.???()"
   ]
  },
  {
   "cell_type": "code",
   "execution_count": null,
   "metadata": {},
   "outputs": [],
   "source": [
    "## TODO : Count data (hint : count)\n",
    "house_sales.???()"
   ]
  },
  {
   "cell_type": "code",
   "execution_count": null,
   "metadata": {},
   "outputs": [],
   "source": [
    "## Display data (Hint : show)\n",
    "house_sales.???()"
   ]
  },
  {
   "cell_type": "markdown",
   "metadata": {},
   "source": [
    "## 2 - Select a few columns"
   ]
  },
  {
   "cell_type": "code",
   "execution_count": null,
   "metadata": {},
   "outputs": [],
   "source": [
    "## TODO : select the following columns\n",
    "## 'SalePrice', 'Bedrooms', 'Bathrooms', 'SqFtTotLiving', 'ZipCode'\n",
    "\n",
    "house_sales2 = house_sales.select (['???', '???', '???', '???', '???'])\n",
    "\n",
    "## TODO :display the data\n",
    "house_sales2.???()"
   ]
  },
  {
   "cell_type": "markdown",
   "metadata": {},
   "source": [
    "## 3 - Data Cleanup"
   ]
  },
  {
   "cell_type": "markdown",
   "metadata": {},
   "source": [
    "### 3.1 - Deal with NULL , missing values\n",
    "Spark dataframes have `na` module that provides common cleanup functions."
   ]
  },
  {
   "cell_type": "code",
   "execution_count": null,
   "metadata": {},
   "outputs": [],
   "source": [
    "## Drop null values\n",
    "## Hint : use 'na.drop' function in dataframe\n",
    "\n",
    "print(\"before \", house_sales2.???())\n",
    "\n",
    "house_sales2 = house_sales2.???.???()\n",
    "\n",
    "print (\"after drop \", house_sales2.???())\n",
    "\n",
    "## Looks like there are no null values in data"
   ]
  },
  {
   "cell_type": "markdown",
   "metadata": {},
   "source": [
    "## 4 - Data Exploration\n",
    "Before we do any analysis, it is important to understand the data."
   ]
  },
  {
   "cell_type": "markdown",
   "metadata": {},
   "source": [
    "### 4.1 - Describe function\n",
    "Spark's describe function is pretty handy for quick exploration of data."
   ]
  },
  {
   "cell_type": "code",
   "execution_count": null,
   "metadata": {
    "scrolled": false
   },
   "outputs": [],
   "source": [
    "# TODO : Describe on all columns\n",
    "## Hint : 'describe'\n",
    "house_sales2.???().show()\n"
   ]
  },
  {
   "cell_type": "code",
   "execution_count": null,
   "metadata": {},
   "outputs": [],
   "source": [
    "## TODO : convert describe result to Pandas using 'toPandas()'\n",
    "house_sales2.???().???()"
   ]
  },
  {
   "cell_type": "code",
   "execution_count": null,
   "metadata": {},
   "outputs": [],
   "source": [
    "## TODO : Describe only select columns : 'SalePrice' and 'Bedrooms'\n",
    "\n",
    "house_sales2.describe(['???', '???']).show()"
   ]
  },
  {
   "cell_type": "markdown",
   "metadata": {},
   "source": [
    "### 4.2 - Basic Stats function\n",
    "Dataframe object has `stat` function"
   ]
  },
  {
   "cell_type": "code",
   "execution_count": null,
   "metadata": {},
   "outputs": [],
   "source": [
    "## TODO : Find correlation between 'SalePrice' and 'Bedrooms'\n",
    "##   and 'SalePrice' and 'SqFtTotLiving'\n",
    "\n",
    "## Hint : use tab completion to find methods on 'stat' object on the dataframe\n",
    "\n",
    "print(house_sales2.???.???('SalePrice', 'Bedrooms'))\n",
    "print(house_sales2.???.???('SalePrice', 'SqFtTotLiving'))"
   ]
  },
  {
   "cell_type": "markdown",
   "metadata": {},
   "source": [
    "## 5 -  Group By Function"
   ]
  },
  {
   "cell_type": "code",
   "execution_count": null,
   "metadata": {},
   "outputs": [],
   "source": [
    "# TODO : calculate sales by bedrooms\n",
    "## Hint : use 'groupBy' function , then use 'count'\n",
    "house_sales2.???('Bedrooms').???().show()"
   ]
  },
  {
   "cell_type": "code",
   "execution_count": null,
   "metadata": {},
   "outputs": [],
   "source": [
    "## TODO : display by sale count\n",
    "## Hint : use 'orderBy' on 'count'  column\n",
    "house_sales2.???('Bedrooms').???().???('???', ascending=False).show()"
   ]
  },
  {
   "cell_type": "markdown",
   "metadata": {},
   "source": [
    "## 6 - Filter - Select Data we care about"
   ]
  },
  {
   "cell_type": "code",
   "execution_count": null,
   "metadata": {},
   "outputs": [],
   "source": [
    "## TODO : filter out data where Zipcode != -1\n",
    "## Hint : use 'filter' function\n",
    "## Hint : and use a condition like 'ZipCode ! -1'\n",
    "a = house_sales2.???('???')\n",
    "a.show()"
   ]
  },
  {
   "cell_type": "markdown",
   "metadata": {},
   "source": [
    "## 7 - Create a new column"
   ]
  },
  {
   "cell_type": "code",
   "execution_count": null,
   "metadata": {},
   "outputs": [],
   "source": [
    "## TODO : we will create a new column 'price_per_sqft'\n",
    "##    prince_per_sqft = SalePrice / SqFtTotLiving\n",
    "a = house_sales2.withColumn('???', house_sales2['???'] / house_sales2['???'])\n",
    "a.show()"
   ]
  },
  {
   "cell_type": "code",
   "execution_count": null,
   "metadata": {},
   "outputs": [],
   "source": []
  }
 ],
 "metadata": {
  "kernelspec": {
   "display_name": "Python 3",
   "language": "python",
   "name": "python3"
  },
  "language_info": {
   "codemirror_mode": {
    "name": "ipython",
    "version": 3
   },
   "file_extension": ".py",
   "mimetype": "text/x-python",
   "name": "python",
   "nbconvert_exporter": "python",
   "pygments_lexer": "ipython3",
   "version": "3.5.5"
  }
 },
 "nbformat": 4,
 "nbformat_minor": 2
}
